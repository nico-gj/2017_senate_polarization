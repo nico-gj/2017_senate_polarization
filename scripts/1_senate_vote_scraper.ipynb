{
 "cells": [
  {
   "cell_type": "markdown",
   "metadata": {
    "collapsed": true
   },
   "source": [
    "# Political Analysis: Clustering Senators relative to their votes"
   ]
  },
  {
   "cell_type": "code",
   "execution_count": 1,
   "metadata": {},
   "outputs": [],
   "source": [
    "import requests\n",
    "from bs4 import BeautifulSoup\n",
    "import pandas as pd\n",
    "import numpy as np\n",
    "import sys\n",
    "from io import StringIO\n",
    "import time\n",
    "import math"
   ]
  },
  {
   "cell_type": "code",
   "execution_count": 2,
   "metadata": {},
   "outputs": [],
   "source": [
    "# What Congress session do you want to scrape?\n",
    "year = 2017"
   ]
  },
  {
   "cell_type": "code",
   "execution_count": 3,
   "metadata": {},
   "outputs": [],
   "source": [
    "congress_num = math.floor((year-1787)/2)\n",
    "session = (year+1)%2 + 1"
   ]
  },
  {
   "cell_type": "code",
   "execution_count": 4,
   "metadata": {},
   "outputs": [
    {
     "name": "stdout",
     "output_type": "stream",
     "text": [
      "200\n",
      "325\n"
     ]
    }
   ],
   "source": [
    "# Check out list of all Voting Records\n",
    "\n",
    "base_url = requests.get(\"https://www.senate.gov/legislative/LIS/roll_call_lists/vote_menu_\"\n",
    "                        +str(congress_num)\n",
    "                        +\"_\"\n",
    "                        +str(session)\n",
    "                        +\".htm\")\n",
    "\n",
    "print(base_url.status_code)\n",
    "soup = BeautifulSoup(base_url.content, 'html.parser')\n",
    "\n",
    "nb_votes_1 = soup.find(id = \"secondary_col2\")\n",
    "nb_votes_2 = nb_votes_1.find('table')\n",
    "nb_votes_3 = nb_votes_2.findAll('td')\n",
    "nb_votes_4 = nb_votes_3[0].get_text()\n",
    "nb_votes = int(nb_votes_4.split('\\xa0', 1)[0])\n",
    "print(nb_votes)"
   ]
  },
  {
   "cell_type": "code",
   "execution_count": 5,
   "metadata": {},
   "outputs": [],
   "source": [
    "# Scrape the vote descriptions\n",
    "\n",
    "columns = ['Vote', 'Result', 'Question', 'Issue', 'Date']\n",
    "vote_desc = pd.DataFrame(\"\", index=np.arange(nb_votes), columns=columns)\n",
    "\n",
    "vote_desc_table = soup.findAll(class_='contenttext')\n",
    "vote_desc_table\n",
    "\n",
    "for i in range(1, nb_votes+1):\n",
    "    vote_desc['Vote'][nb_votes-i]=vote_desc_table[5*i].get_text()\n",
    "    vote_desc['Result'][nb_votes-i]=vote_desc_table[5*i+1].get_text()\n",
    "    vote_desc['Question'][nb_votes-i]=vote_desc_table[5*i+2].get_text()\n",
    "    vote_desc['Issue'][nb_votes-i]=vote_desc_table[5*i+3].get_text()\n",
    "    vote_desc['Date'][nb_votes-i]=vote_desc_table[5*i+4].get_text()\n",
    "\n",
    "vote_desc.to_csv(\n",
    "    path_or_buf=\"../input/Vote_Description_\"+str(congress_num)+\"_\"+str(session)+\".csv\"\n",
    "    , sep=','\n",
    "    , index = False\n",
    ")"
   ]
  },
  {
   "cell_type": "code",
   "execution_count": 8,
   "metadata": {
    "scrolled": false
   },
   "outputs": [],
   "source": [
    "# Scrape each vote\n",
    "\n",
    "for i in range(1,nb_votes+1):\n",
    "    j = 0\n",
    "    print(i)\n",
    "\n",
    "    while j == 0:\n",
    "\n",
    "        vote_num_for_url = \"0\"*(5-len(str(i)))+str(i)\n",
    "\n",
    "        url = requests.get(\n",
    "            \"https://www.senate.gov/legislative/LIS/roll_call_lists/roll_call_vote_cfm.cfm?congress=\"\n",
    "            +str(congress_num)\n",
    "            +\"&session=\"\n",
    "            +str(session)\n",
    "            +\"&vote=\"\n",
    "            +vote_num_for_url\n",
    "        )\n",
    "        soup = BeautifulSoup(url.content\n",
    "                             , 'html.parser')\n",
    "\n",
    "        if soup.findAll(class_='newspaperDisplay_3column') == []:\n",
    "            j = 0 \n",
    "        else:\n",
    "            j = 1\n",
    "\n",
    "    vote_results = soup.findAll(class_='newspaperDisplay_3column')[0].findAll(class_='contenttext')[0].get_text()\n",
    "    vote_results = vote_results.replace(\", Giving Live Pair\", \"\")\n",
    "    vote_results_csv = StringIO(vote_results)\n",
    "    vote_results = pd.read_csv(vote_results_csv, sep=\",\", header=None)\n",
    "    vote_results.columns = ['0', vote_num_for_url]\n",
    "\n",
    "\n",
    "    if i == 1:\n",
    "        all_votes = vote_results\n",
    "        all_votes.columns = ['Senator', vote_num_for_url]\n",
    "    else:\n",
    "        all_votes = all_votes.merge(vote_results, \n",
    "                                    left_on='Senator',\n",
    "                                    right_on='0', \n",
    "                                    how='outer')\n",
    "        for i in range(0, len(all_votes)):\n",
    "            if pd.isnull(all_votes['Senator'][i]):\n",
    "                all_votes['Senator'][i]=all_votes['0'][i]\n",
    "        del all_votes['0']"
   ]
  },
  {
   "cell_type": "markdown",
   "metadata": {},
   "source": [
    " <span style=\"color:red\">__If code is stuck on a vote, open the vote's page on your internet browser.__</span>"
   ]
  },
  {
   "cell_type": "code",
   "execution_count": 40,
   "metadata": {
    "scrolled": true
   },
   "outputs": [
    {
     "name": "stderr",
     "output_type": "stream",
     "text": [
      "/Users/nj995/anaconda3/lib/python3.6/site-packages/ipykernel_launcher.py:6: SettingWithCopyWarning: \n",
      "A value is trying to be set on a copy of a slice from a DataFrame\n",
      "\n",
      "See the caveats in the documentation: http://pandas.pydata.org/pandas-docs/stable/indexing.html#indexing-view-versus-copy\n",
      "  \n",
      "/Users/nj995/anaconda3/lib/python3.6/site-packages/ipykernel_launcher.py:7: SettingWithCopyWarning: \n",
      "A value is trying to be set on a copy of a slice from a DataFrame\n",
      "\n",
      "See the caveats in the documentation: http://pandas.pydata.org/pandas-docs/stable/indexing.html#indexing-view-versus-copy\n",
      "  import sys\n"
     ]
    }
   ],
   "source": [
    "# Replace Yea = 1 and Nay = -1 (other = 0)\n",
    "\n",
    "for i in range(1, nb_votes+1):\n",
    "    vote_num_for_url = \"0\"*(5-len(str(i)))+str(i)\n",
    "    all_votes['Vote_'+vote_num_for_url]=0\n",
    "    all_votes['Vote_'+vote_num_for_url][all_votes[vote_num_for_url]==' Yea']=1\n",
    "    all_votes['Vote_'+vote_num_for_url][all_votes[vote_num_for_url]==' Nay']=-1\n",
    "    del all_votes[vote_num_for_url]"
   ]
  },
  {
   "cell_type": "code",
   "execution_count": 41,
   "metadata": {
    "scrolled": true
   },
   "outputs": [],
   "source": [
    "all_votes['Senator_Name'] = all_votes.Senator.str[:-7]\n",
    "all_votes['Senator_Party'] = all_votes.Senator.str[-5:-4]\n",
    "all_votes['Senator_State'] = all_votes.Senator.str[-3:-1]\n",
    "del all_votes['Senator']"
   ]
  },
  {
   "cell_type": "code",
   "execution_count": 42,
   "metadata": {},
   "outputs": [],
   "source": [
    "columns = ['Senator_Name', 'Senator_Party', 'Senator_State']\n",
    "for i in range(1, nb_votes+1):\n",
    "    vote_num_for_url = \"0\"*(5-len(str(i)))+str(i)\n",
    "    columns.append('Vote_'+vote_num_for_url)\n",
    "all_votes = all_votes[columns]"
   ]
  },
  {
   "cell_type": "code",
   "execution_count": 43,
   "metadata": {},
   "outputs": [],
   "source": [
    "all_votes.to_csv(\n",
    "    path_or_buf=\"../input/Senate_Votes_\"+str(congress_num)+\"_\"+str(session)+\".csv\"\n",
    "    , sep=','\n",
    "    , index = False\n",
    ")"
   ]
  },
  {
   "cell_type": "code",
   "execution_count": null,
   "metadata": {},
   "outputs": [],
   "source": []
  }
 ],
 "metadata": {
  "kernelspec": {
   "display_name": "Python 3",
   "language": "python",
   "name": "python3"
  },
  "language_info": {
   "codemirror_mode": {
    "name": "ipython",
    "version": 3
   },
   "file_extension": ".py",
   "mimetype": "text/x-python",
   "name": "python",
   "nbconvert_exporter": "python",
   "pygments_lexer": "ipython3",
   "version": "3.6.2"
  },
  "toc": {
   "nav_menu": {},
   "number_sections": false,
   "sideBar": true,
   "skip_h1_title": false,
   "title_cell": "Table of Contents",
   "title_sidebar": "Contents",
   "toc_cell": false,
   "toc_position": {
    "height": "calc(100% - 180px)",
    "left": "10px",
    "top": "150px",
    "width": "180px"
   },
   "toc_section_display": true,
   "toc_window_display": true
  }
 },
 "nbformat": 4,
 "nbformat_minor": 2
}
